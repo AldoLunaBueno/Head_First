{
 "cells": [
  {
   "cell_type": "code",
   "execution_count": 1,
   "metadata": {},
   "outputs": [
    {
     "name": "stdout",
     "output_type": "stream",
     "text": [
      "Requirement already up-to-date: flask in /home/aldo/.local/lib/python3.9/site-packages (3.0.0)\n",
      "Requirement already satisfied, skipping upgrade: importlib-metadata>=3.6.0; python_version < \"3.10\" in /home/aldo/.local/lib/python3.9/site-packages (from flask) (7.0.1)\n",
      "Requirement already satisfied, skipping upgrade: click>=8.1.3 in /home/aldo/.local/lib/python3.9/site-packages (from flask) (8.1.7)\n",
      "Requirement already satisfied, skipping upgrade: Jinja2>=3.1.2 in /home/aldo/.local/lib/python3.9/site-packages (from flask) (3.1.2)\n",
      "Requirement already satisfied, skipping upgrade: blinker>=1.6.2 in /home/aldo/.local/lib/python3.9/site-packages (from flask) (1.7.0)\n",
      "Requirement already satisfied, skipping upgrade: itsdangerous>=2.1.2 in /home/aldo/.local/lib/python3.9/site-packages (from flask) (2.1.2)\n",
      "Requirement already satisfied, skipping upgrade: Werkzeug>=3.0.0 in /home/aldo/.local/lib/python3.9/site-packages (from flask) (3.0.1)\n",
      "Requirement already satisfied, skipping upgrade: zipp>=0.5 in /home/aldo/.local/lib/python3.9/site-packages (from importlib-metadata>=3.6.0; python_version < \"3.10\"->flask) (3.17.0)\n",
      "Requirement already satisfied, skipping upgrade: MarkupSafe>=2.0 in /home/aldo/.local/lib/python3.9/site-packages (from Jinja2>=3.1.2->flask) (2.1.3)\n",
      "Note: you may need to restart the kernel to use updated packages.\n"
     ]
    }
   ],
   "source": [
    "%pip install flask --upgrade"
   ]
  },
  {
   "cell_type": "markdown",
   "metadata": {},
   "source": [
    "Successfully installed Jinja2-3.1.2 MarkupSafe-2.1.3 Werkzeug-3.0.1 blinker-1.7.0 click-8.1.7 flask-3.0.0 itsdangerous-2.1.2"
   ]
  },
  {
   "cell_type": "code",
   "execution_count": 2,
   "metadata": {},
   "outputs": [
    {
     "data": {
      "text/plain": [
       "'__main__'"
      ]
     },
     "execution_count": 2,
     "metadata": {},
     "output_type": "execute_result"
    }
   ],
   "source": [
    "__name__"
   ]
  },
  {
   "cell_type": "code",
   "execution_count": 1,
   "metadata": {},
   "outputs": [
    {
     "name": "stdout",
     "output_type": "stream",
     "text": [
      "Hello, I'm whoami.\n"
     ]
    }
   ],
   "source": [
    "import whoami # Importado del archivo local whoami.py"
   ]
  },
  {
   "cell_type": "code",
   "execution_count": null,
   "metadata": {},
   "outputs": [],
   "source": []
  }
 ],
 "metadata": {
  "kernelspec": {
   "display_name": "Python 3",
   "language": "python",
   "name": "python3"
  },
  "language_info": {
   "codemirror_mode": {
    "name": "ipython",
    "version": 3
   },
   "file_extension": ".py",
   "mimetype": "text/x-python",
   "name": "python",
   "nbconvert_exporter": "python",
   "pygments_lexer": "ipython3",
   "version": "3.9.5"
  }
 },
 "nbformat": 4,
 "nbformat_minor": 2
}
