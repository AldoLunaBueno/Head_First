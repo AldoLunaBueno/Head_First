{
 "cells": [
  {
   "cell_type": "code",
   "execution_count": 1,
   "metadata": {},
   "outputs": [],
   "source": [
    "import swimclub"
   ]
  },
  {
   "cell_type": "code",
   "execution_count": 2,
   "metadata": {},
   "outputs": [
    {
     "data": {
      "text/plain": [
       "('Ali',\n",
       " '12',\n",
       " '100m',\n",
       " 'Back',\n",
       " ['1:36.54', '1:39.10', '1:39.45', '1:42.87'],\n",
       " '1:39.49')"
      ]
     },
     "execution_count": 2,
     "metadata": {},
     "output_type": "execute_result"
    }
   ],
   "source": [
    "swimclub.read_swim_data(\"Ali-12-100m-Back.txt\")"
   ]
  },
  {
   "cell_type": "code",
   "execution_count": 3,
   "metadata": {},
   "outputs": [],
   "source": [
    "data = swimclub.read_swim_data(\"Darius-13-100m-Fly.txt\")"
   ]
  },
  {
   "cell_type": "markdown",
   "metadata": {},
   "source": [
    "Pero solo podemos abrir el archivo de Darius en este punto. ¿Cómo logramos que cualquier archivos pueda ser abierto?"
   ]
  },
  {
   "cell_type": "code",
   "execution_count": 4,
   "metadata": {},
   "outputs": [
    {
     "name": "stdout",
     "output_type": "stream",
     "text": [
      "1:27.95\n",
      "1:21.07\n",
      "1:30.96\n",
      "1:23.22\n",
      "1:27.95\n",
      "1:28.30\n"
     ]
    }
   ],
   "source": [
    "swimmer, age, distance, stroke, times2, average = data\n",
    "for t in times2:\n",
    "    print(t)"
   ]
  },
  {
   "cell_type": "code",
   "execution_count": 5,
   "metadata": {},
   "outputs": [
    {
     "data": {
      "text/plain": [
       "61"
      ]
     },
     "execution_count": 5,
     "metadata": {},
     "output_type": "execute_result"
    }
   ],
   "source": [
    "import os\n",
    "swim_files = os.listdir(swimclub.FOLDER)\n",
    "swim_files.sort()\n",
    "len(swim_files)\n"
   ]
  },
  {
   "cell_type": "code",
   "execution_count": 6,
   "metadata": {},
   "outputs": [
    {
     "name": "stdout",
     "output_type": "stream",
     "text": [
      "Help on method_descriptor:\n",
      "\n",
      "pop(self, index=-1, /)\n",
      "    Remove and return item at index (default last).\n",
      "    \n",
      "    Raises IndexError if list is empty or index is out of range.\n",
      "\n"
     ]
    }
   ],
   "source": [
    "help(list.pop)"
   ]
  },
  {
   "cell_type": "code",
   "execution_count": 7,
   "metadata": {},
   "outputs": [
    {
     "data": {
      "text/plain": [
       "60"
      ]
     },
     "execution_count": 7,
     "metadata": {},
     "output_type": "execute_result"
    }
   ],
   "source": [
    "file_from_mac = \".DS_Store\"\n",
    "try:\n",
    "    swim_files.remove(file_from_mac)\n",
    "except:\n",
    "    print(f\"There is no file named {file_from_mac}\")\n",
    "len(swim_files)"
   ]
  },
  {
   "cell_type": "code",
   "execution_count": 11,
   "metadata": {},
   "outputs": [
    {
     "name": "stdout",
     "output_type": "stream",
     "text": [
      "1 Processing data from Abi-10-100m-Back.txt\n",
      "2 Processing data from Abi-10-100m-Breast.txt\n",
      "3 Processing data from Abi-10-50m-Back.txt\n",
      "4 Processing data from Abi-10-50m-Breast.txt\n",
      "5 Processing data from Abi-10-50m-Free.txt\n",
      "6 Processing data from Ali-12-100m-Back.txt\n",
      "7 Processing data from Ali-12-100m-Free.txt\n",
      "8 Processing data from Alison-14-100m-Breast.txt\n",
      "9 Processing data from Alison-14-100m-Free.txt\n",
      "10 Processing data from Aurora-13-50m-Free.txt\n",
      "11 Processing data from Bill-18-100m-Back.txt\n",
      "12 Processing data from Bill-18-200m-Back.txt\n",
      "13 Processing data from Blake-15-100m-Back.txt\n",
      "14 Processing data from Blake-15-100m-Fly.txt\n",
      "15 Processing data from Blake-15-100m-Free.txt\n",
      "16 Processing data from Calvin-9-50m-Back.txt\n",
      "17 Processing data from Calvin-9-50m-Fly.txt\n",
      "18 Processing data from Calvin-9-50m-Free.txt\n",
      "19 Processing data from Carl-15-100m-Back.txt\n",
      "20 Processing data from Chris-17-100m-Back.txt\n",
      "21 Processing data from Chris-17-100m-Breast.txt\n",
      "22 Processing data from Darius-13-100m-Back.txt\n",
      "23 Processing data from Darius-13-100m-Breast.txt\n",
      "24 Processing data from Darius-13-100m-Fly.txt\n",
      "25 Processing data from Darius-13-200m-IM.txt\n",
      "26 Processing data from Dave-17-100m-Free.txt\n",
      "27 Processing data from Dave-17-200m-Back.txt\n",
      "28 Processing data from Elba-14-100m-Free.txt\n",
      "29 Processing data from Emma-13-100m-Breast.txt\n",
      "30 Processing data from Emma-13-100m-Free.txt\n",
      "31 Processing data from Erika-15-100m-Breast.txt\n",
      "32 Processing data from Erika-15-100m-Free.txt\n",
      "33 Processing data from Erika-15-200m-Breast.txt\n",
      "34 Processing data from Hannah-13-100m-Back.txt\n",
      "35 Processing data from Hannah-13-100m-Free.txt\n",
      "36 Processing data from Katie-9-100m-Back.txt\n",
      "37 Processing data from Katie-9-100m-Breast.txt\n",
      "38 Processing data from Katie-9-100m-Free.txt\n",
      "39 Processing data from Katie-9-50m-Back.txt\n",
      "40 Processing data from Katie-9-50m-Breast.txt\n",
      "41 Processing data from Katie-9-50m-Fly.txt\n",
      "42 Processing data from Katie-9-50m-Free.txt\n",
      "43 Processing data from Lizzie-14-100m-Back.txt\n",
      "44 Processing data from Lizzie-14-100m-Free.txt\n",
      "45 Processing data from Maria-9-50m-Free.txt\n",
      "46 Processing data from Mike-15-100m-Back.txt\n",
      "47 Processing data from Mike-15-100m-Fly.txt\n",
      "48 Processing data from Mike-15-100m-Free.txt\n",
      "49 Processing data from Mike-15-200m-Free.txt\n",
      "50 Processing data from Mike-15-200m-IM.txt\n",
      "51 Processing data from Owen-15-100m-Free.txt\n",
      "52 Processing data from Ruth-13-100m-Back.txt\n",
      "53 Processing data from Ruth-13-100m-Free.txt\n",
      "54 Processing data from Ruth-13-200m-Back.txt\n",
      "55 Processing data from Ruth-13-200m-Free.txt\n",
      "56 Processing data from Ruth-13-400m-Free.txt\n",
      "57 Processing data from Tasmin-15-100m-Back.txt\n",
      "58 Processing data from Tasmin-15-100m-Breast.txt\n",
      "59 Processing data from Tasmin-15-100m-Free.txt\n",
      "60 Processing data from Tasmin-15-200m-Breast.txt\n"
     ]
    }
   ],
   "source": [
    "for n, filename in enumerate(swim_files, 1):\n",
    "    print(f\"{n} Processing data from {filename}\")\n",
    "    swimclub.read_swim_data(filename)\n",
    "    "
   ]
  },
  {
   "cell_type": "code",
   "execution_count": 9,
   "metadata": {},
   "outputs": [
    {
     "name": "stdout",
     "output_type": "stream",
     "text": [
      "Help on built-in function split:\n",
      "\n",
      "split(sep=None, maxsplit=-1) method of builtins.str instance\n",
      "    Return a list of the words in the string, using sep as the delimiter string.\n",
      "    \n",
      "    sep\n",
      "      The delimiter according which to split the string.\n",
      "      None (the default value) means split according to any whitespace,\n",
      "      and discard empty strings from the result.\n",
      "    maxsplit\n",
      "      Maximum number of splits to do.\n",
      "      -1 (the default value) means no limit.\n",
      "\n"
     ]
    }
   ],
   "source": [
    "help(\"\".split)"
   ]
  },
  {
   "cell_type": "code",
   "execution_count": 10,
   "metadata": {},
   "outputs": [
    {
     "data": {
      "text/plain": [
       "False"
      ]
     },
     "execution_count": 10,
     "metadata": {},
     "output_type": "execute_result"
    }
   ],
   "source": [
    "\":\" in \"24.6\""
   ]
  }
 ],
 "metadata": {
  "kernelspec": {
   "display_name": "Python 3",
   "language": "python",
   "name": "python3"
  },
  "language_info": {
   "codemirror_mode": {
    "name": "ipython",
    "version": 3
   },
   "file_extension": ".py",
   "mimetype": "text/x-python",
   "name": "python",
   "nbconvert_exporter": "python",
   "pygments_lexer": "ipython3",
   "version": "3.9.5"
  }
 },
 "nbformat": 4,
 "nbformat_minor": 2
}
