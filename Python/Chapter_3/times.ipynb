{
 "cells": [
  {
   "cell_type": "code",
   "execution_count": 20,
   "metadata": {},
   "outputs": [
    {
     "name": "stdout",
     "output_type": "stream",
     "text": [
      "Swimmer: Darius\n",
      "Age: 13\n",
      "Distance: 100m\n",
      "Stroke: Fly\n",
      "Times: ['1:27.95', '1:21.07', '1:30.96', '1:23.22', '1:27.95', '1:28.30']\n",
      "Average: 1:26.58\n"
     ]
    }
   ],
   "source": [
    "import statistics\n",
    "\n",
    "FOLDER = \"swimdata/\"\n",
    "FN = \"Darius-13-100m-Fly.txt\"\n",
    "\n",
    "swimmer, age, distance, stroke = FN.removesuffix(\".txt\").split(\"-\")\n",
    "\n",
    "with open(FOLDER + FN, \"r\") as file:\n",
    "    lines = file.readlines()\n",
    "\n",
    "\n",
    "times = lines[0].strip().split(\",\")\n",
    "\n",
    "time_values = []\n",
    "\n",
    "for t in times:\n",
    "    min, rest = t.split(\":\")\n",
    "    sec, hund = rest.split(\".\")\n",
    "    min, sec, hund = int(min), int(sec), int(hund)\n",
    "    value = 100*60*min + 100*sec + hund\n",
    "    time_values.append(value)\n",
    "\n",
    "average_time = statistics.mean(time_values)\n",
    "hund, sec = average_time % 100, average_time // 100\n",
    "sec, min = int(sec % 60), int(sec // 60)\n",
    "min, sec, hund = str(min), str(sec), str(round(hund))\n",
    "average = f\"{min}:{sec}.{hund}\"\n",
    "\n",
    "\n",
    "print(f\"Swimmer: {swimmer}\")\n",
    "print(f\"Age: {age}\")\n",
    "print(f\"Distance: {distance}\")\n",
    "print(f\"Stroke: {stroke}\")\n",
    "print(f\"Times: {times}\")\n",
    "print(f\"Average: {average}\")"
   ]
  }
 ],
 "metadata": {
  "kernelspec": {
   "display_name": "Python 3",
   "language": "python",
   "name": "python3"
  },
  "language_info": {
   "codemirror_mode": {
    "name": "ipython",
    "version": 3
   },
   "file_extension": ".py",
   "mimetype": "text/x-python",
   "name": "python",
   "nbconvert_exporter": "python",
   "pygments_lexer": "ipython3",
   "version": "3.9.5"
  }
 },
 "nbformat": 4,
 "nbformat_minor": 2
}
