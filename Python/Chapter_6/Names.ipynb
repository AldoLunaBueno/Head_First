{
 "cells": [
  {
   "cell_type": "code",
   "execution_count": 2,
   "metadata": {},
   "outputs": [],
   "source": [
    "import os"
   ]
  },
  {
   "cell_type": "code",
   "execution_count": 18,
   "metadata": {},
   "outputs": [
    {
     "data": {
      "text/plain": [
       "22"
      ]
     },
     "execution_count": 18,
     "metadata": {},
     "output_type": "execute_result"
    }
   ],
   "source": [
    "FOLDER = \"swimdata/\"\n",
    "\n",
    "\n",
    "file_names = os.listdir(FOLDER)\n",
    "try:\n",
    "    file_names.remove(\".DS_Store\")\n",
    "except:\n",
    "    print(\"There isn't a '.DS_Store' file\")"
   ]
  },
  {
   "cell_type": "code",
   "execution_count": 41,
   "metadata": {},
   "outputs": [
    {
     "name": "stdout",
     "output_type": "stream",
     "text": [
      "22\n",
      "{'Abi': ['Abi-10-50m-Back.txt',\n",
      "         'Abi-10-100m-Breast.txt',\n",
      "         'Abi-10-100m-Back.txt',\n",
      "         'Abi-10-50m-Free.txt',\n",
      "         'Abi-10-50m-Breast.txt'],\n",
      " 'Ali': ['Ali-12-100m-Back.txt', 'Ali-12-100m-Free.txt'],\n",
      " 'Alison': ['Alison-14-100m-Free.txt', 'Alison-14-100m-Breast.txt'],\n",
      " 'Aurora': ['Aurora-13-50m-Free.txt'],\n",
      " 'Bill': ['Bill-18-200m-Back.txt', 'Bill-18-100m-Back.txt'],\n",
      " 'Blake': ['Blake-15-100m-Free.txt',\n",
      "           'Blake-15-100m-Back.txt',\n",
      "           'Blake-15-100m-Fly.txt'],\n",
      " 'Calvin': ['Calvin-9-50m-Back.txt',\n",
      "            'Calvin-9-50m-Fly.txt',\n",
      "            'Calvin-9-50m-Free.txt'],\n",
      " 'Carl': ['Carl-15-100m-Back.txt'],\n",
      " 'Chris': ['Chris-17-100m-Back.txt', 'Chris-17-100m-Breast.txt'],\n",
      " 'Darius': ['Darius-13-100m-Back.txt',\n",
      "            'Darius-13-200m-IM.txt',\n",
      "            'Darius-13-100m-Fly.txt',\n",
      "            'Darius-13-100m-Breast.txt'],\n",
      " 'Dave': ['Dave-17-200m-Back.txt', 'Dave-17-100m-Free.txt'],\n",
      " 'Elba': ['Elba-14-100m-Free.txt'],\n",
      " 'Emma': ['Emma-13-100m-Free.txt', 'Emma-13-100m-Breast.txt'],\n",
      " 'Erika': ['Erika-15-200m-Breast.txt',\n",
      "           'Erika-15-100m-Free.txt',\n",
      "           'Erika-15-100m-Breast.txt'],\n",
      " 'Hannah': ['Hannah-13-100m-Free.txt', 'Hannah-13-100m-Back.txt'],\n",
      " 'Katie': ['Katie-9-100m-Breast.txt',\n",
      "           'Katie-9-100m-Back.txt',\n",
      "           'Katie-9-50m-Fly.txt',\n",
      "           'Katie-9-50m-Free.txt',\n",
      "           'Katie-9-100m-Free.txt',\n",
      "           'Katie-9-50m-Breast.txt',\n",
      "           'Katie-9-50m-Back.txt'],\n",
      " 'Lizzie': ['Lizzie-14-100m-Back.txt', 'Lizzie-14-100m-Free.txt'],\n",
      " 'Maria': ['Maria-9-50m-Free.txt'],\n",
      " 'Mike': ['Mike-15-100m-Free.txt',\n",
      "          'Mike-15-100m-Back.txt',\n",
      "          'Mike-15-200m-IM.txt',\n",
      "          'Mike-15-100m-Fly.txt',\n",
      "          'Mike-15-200m-Free.txt'],\n",
      " 'Owen': ['Owen-15-100m-Free.txt'],\n",
      " 'Ruth': ['Ruth-13-200m-Back.txt',\n",
      "          'Ruth-13-100m-Free.txt',\n",
      "          'Ruth-13-200m-Free.txt',\n",
      "          'Ruth-13-100m-Back.txt',\n",
      "          'Ruth-13-400m-Free.txt'],\n",
      " 'Tasmin': ['Tasmin-15-100m-Back.txt',\n",
      "            'Tasmin-15-200m-Breast.txt',\n",
      "            'Tasmin-15-100m-Breast.txt',\n",
      "            'Tasmin-15-100m-Free.txt']}\n"
     ]
    }
   ],
   "source": [
    "import swimclub\n",
    "from pprint import pprint\n",
    "swimmers = {}\n",
    "for fn in file_names:\n",
    "    name = fn.split(\"-\")[0]\n",
    "    # name, *rest = swimclub.read_swim_data(fn)\n",
    "    if name not in swimmers:  \n",
    "        swimmers[name] = []\n",
    "    swimmers[name].append(fn)\n",
    "\n",
    "print(len(swimmers))\n",
    "pprint(swimmers)"
   ]
  },
  {
   "cell_type": "code",
   "execution_count": 38,
   "metadata": {},
   "outputs": [
    {
     "data": {
      "text/plain": [
       "['Calvin-9-50m-Back.txt', 'Calvin-9-50m-Fly.txt', 'Calvin-9-50m-Free.txt']"
      ]
     },
     "execution_count": 38,
     "metadata": {},
     "output_type": "execute_result"
    }
   ],
   "source": [
    "swimmers[\"Calvin\"]"
   ]
  },
  {
   "cell_type": "code",
   "execution_count": 40,
   "metadata": {},
   "outputs": [],
   "source": [
    "import webbrowser\n",
    "for fn in swimmers[\"Calvin\"]:\n",
    "    webbrowser.open(\"file://\" + os.path.realpath(swimclub.produce_bar_chart(fn)))"
   ]
  }
 ],
 "metadata": {
  "kernelspec": {
   "display_name": "Python 3",
   "language": "python",
   "name": "python3"
  },
  "language_info": {
   "codemirror_mode": {
    "name": "ipython",
    "version": 3
   },
   "file_extension": ".py",
   "mimetype": "text/x-python",
   "name": "python",
   "nbconvert_exporter": "python",
   "pygments_lexer": "ipython3",
   "version": "3.9.5"
  }
 },
 "nbformat": 4,
 "nbformat_minor": 2
}
