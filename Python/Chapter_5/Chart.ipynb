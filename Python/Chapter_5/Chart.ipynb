{
 "cells": [
  {
   "cell_type": "code",
   "execution_count": 1,
   "metadata": {},
   "outputs": [],
   "source": [
    "import swimclub\n",
    "\n",
    "fn = \"Darius-13-100m-Fly.txt\"\n",
    "(swimmer, age, distance, stroke, *_) = swimclub.read_swim_data(fn)\n",
    "\n",
    "title = f\"{swimmer} (Under {age}) {distance} {stroke}\""
   ]
  },
  {
   "cell_type": "code",
   "execution_count": 2,
   "metadata": {},
   "outputs": [
    {
     "data": {
      "text/plain": [
       "'Darius (Under 13) 100m Fly'"
      ]
     },
     "execution_count": 2,
     "metadata": {},
     "output_type": "execute_result"
    }
   ],
   "source": [
    "title"
   ]
  },
  {
   "cell_type": "code",
   "execution_count": 3,
   "metadata": {},
   "outputs": [],
   "source": [
    "html = f\"<!DOCTYPE html><html><head><title>{title}\"\n",
    "html = html + f\"</title></head><body><h3>{title}</h3>\""
   ]
  },
  {
   "cell_type": "code",
   "execution_count": 4,
   "metadata": {},
   "outputs": [
    {
     "data": {
      "text/plain": [
       "'<!DOCTYPE html><html><head><title>Darius (Under 13) 100m Fly</title></head><body><h3>Darius (Under 13) 100m Fly</h3>'"
      ]
     },
     "execution_count": 4,
     "metadata": {},
     "output_type": "execute_result"
    }
   ],
   "source": [
    "html"
   ]
  },
  {
   "cell_type": "code",
   "execution_count": 5,
   "metadata": {},
   "outputs": [
    {
     "name": "stdout",
     "output_type": "stream",
     "text": [
      "<!DOCTYPE html>\n",
      "<html>\n",
      "    <head>\n",
      "        <title>Darius (Under 13) 100m Fly</title>\n",
      "    </head>\n",
      "    <body>\n",
      "        <h3>Darius (Under 13) 100m Fly</h3>\n",
      "\n"
     ]
    }
   ],
   "source": [
    "html = f\"\"\"<!DOCTYPE html>\n",
    "<html>\n",
    "    <head>\n",
    "        <title>{title}</title>\n",
    "    </head>\n",
    "    <body>\n",
    "        <h3>{title}</h3>\n",
    "\"\"\"\n",
    "print(html)"
   ]
  },
  {
   "cell_type": "code",
   "execution_count": 6,
   "metadata": {},
   "outputs": [
    {
     "name": "stdout",
     "output_type": "stream",
     "text": [
      "8795 -> 386.76\n",
      "8107 -> 356.51\n",
      "9096 -> 400.0\n",
      "8322 -> 365.96\n",
      "8795 -> 386.76\n",
      "8830 -> 388.3\n"
     ]
    }
   ],
   "source": [
    "import hfpy_utils\n",
    "\n",
    "*_, times, average, time_values = swimclub.read_swim_data(fn)\n",
    "\n",
    "max_time = max(time_values)\n",
    "for t in time_values:\n",
    "    scaled_time = hfpy_utils.convert2range(t, 0, max_time, 0, 400)\n",
    "    print(f\"{t} -> {scaled_time}\")"
   ]
  },
  {
   "cell_type": "code",
   "execution_count": 7,
   "metadata": {},
   "outputs": [
    {
     "name": "stdout",
     "output_type": "stream",
     "text": [
      "\n",
      "    <svg height=\"30\" width=\"400\">\n",
      "        <rect height=\"30\" width=\"388.3\" style=\"fill:rgb(0,0,255);\" />\n",
      "    </svg>1:28.30<br />\n",
      "\n"
     ]
    }
   ],
   "source": [
    "max_time = max(time_values)\n",
    "i = 5\n",
    "bar_width = hfpy_utils.convert2range(time_values[i], 0, max_time, 0, 400)\n",
    "svg = f\"\"\"\n",
    "    <svg height=\"30\" width=\"400\">\n",
    "        <rect height=\"30\" width=\"{bar_width}\" style=\"fill:rgb(0,0,255);\" />\n",
    "    </svg>{times[i]}<br />\n",
    "\"\"\"\n",
    "\n",
    "print(svg)"
   ]
  },
  {
   "cell_type": "code",
   "execution_count": 8,
   "metadata": {},
   "outputs": [
    {
     "name": "stdout",
     "output_type": "stream",
     "text": [
      "0 8795 1:27.95\n",
      "1 8107 1:21.07\n",
      "2 9096 1:30.96\n",
      "3 8322 1:23.22\n",
      "4 8795 1:27.95\n",
      "5 8830 1:28.30\n"
     ]
    }
   ],
   "source": [
    "for i, (t, t_str) in enumerate(zip(time_values, times)):\n",
    "    print(i, t, t_str)"
   ]
  },
  {
   "cell_type": "code",
   "execution_count": 9,
   "metadata": {},
   "outputs": [
    {
     "name": "stdout",
     "output_type": "stream",
     "text": [
      "\n",
      "        <svg height=\"30\" width=\"400\">\n",
      "            <rect height=\"30\" width=\"388.3\" style=\"fill:rgb(0,0,255);\" />\n",
      "        </svg>1:28.30<br />\n",
      "    \n",
      "        <svg height=\"30\" width=\"400\">\n",
      "            <rect height=\"30\" width=\"386.76\" style=\"fill:rgb(0,0,255);\" />\n",
      "        </svg>1:27.95<br />\n",
      "    \n",
      "        <svg height=\"30\" width=\"400\">\n",
      "            <rect height=\"30\" width=\"365.96\" style=\"fill:rgb(0,0,255);\" />\n",
      "        </svg>1:23.22<br />\n",
      "    \n",
      "        <svg height=\"30\" width=\"400\">\n",
      "            <rect height=\"30\" width=\"400.0\" style=\"fill:rgb(0,0,255);\" />\n",
      "        </svg>1:30.96<br />\n",
      "    \n",
      "        <svg height=\"30\" width=\"400\">\n",
      "            <rect height=\"30\" width=\"356.51\" style=\"fill:rgb(0,0,255);\" />\n",
      "        </svg>1:21.07<br />\n",
      "    \n",
      "        <svg height=\"30\" width=\"400\">\n",
      "            <rect height=\"30\" width=\"386.76\" style=\"fill:rgb(0,0,255);\" />\n",
      "        </svg>1:27.95<br />\n",
      "    \n"
     ]
    }
   ],
   "source": [
    "svgs = \"\"\n",
    "max_time = max(time_values)\n",
    "for _, (t, t_str) in enumerate(zip(time_values[::-1], times[::-1])):\n",
    "    bar_width = hfpy_utils.convert2range(t, 0, max_time, 0, 400)\n",
    "    svgs += f\"\"\"\n",
    "        <svg height=\"30\" width=\"400\">\n",
    "            <rect height=\"30\" width=\"{bar_width}\" style=\"fill:rgb(0,0,255);\" />\n",
    "        </svg>{t_str}<br />\n",
    "    \"\"\"\n",
    "print(svgs)"
   ]
  },
  {
   "cell_type": "code",
   "execution_count": 10,
   "metadata": {},
   "outputs": [
    {
     "name": "stdout",
     "output_type": "stream",
     "text": [
      "\n",
      "        <p>Average time: 1:26.58</p>\n",
      "    </body>\n",
      "</html>\n",
      "\n"
     ]
    }
   ],
   "source": [
    "footer = f\"\"\"\n",
    "        <p>Average time: {average}</p>\n",
    "    </body>\n",
    "</html>\n",
    "\"\"\"\n",
    "print(footer)"
   ]
  },
  {
   "cell_type": "code",
   "execution_count": 11,
   "metadata": {},
   "outputs": [
    {
     "name": "stdout",
     "output_type": "stream",
     "text": [
      "<!DOCTYPE html>\n",
      "<html>\n",
      "    <head>\n",
      "        <title>Darius (Under 13) 100m Fly</title>\n",
      "    </head>\n",
      "    <body>\n",
      "        <h3>Darius (Under 13) 100m Fly</h3>\n",
      "\n",
      "        <svg height=\"30\" width=\"400\">\n",
      "            <rect height=\"30\" width=\"388.3\" style=\"fill:rgb(0,0,255);\" />\n",
      "        </svg>1:28.30<br />\n",
      "    \n",
      "        <svg height=\"30\" width=\"400\">\n",
      "            <rect height=\"30\" width=\"386.76\" style=\"fill:rgb(0,0,255);\" />\n",
      "        </svg>1:27.95<br />\n",
      "    \n",
      "        <svg height=\"30\" width=\"400\">\n",
      "            <rect height=\"30\" width=\"365.96\" style=\"fill:rgb(0,0,255);\" />\n",
      "        </svg>1:23.22<br />\n",
      "    \n",
      "        <svg height=\"30\" width=\"400\">\n",
      "            <rect height=\"30\" width=\"400.0\" style=\"fill:rgb(0,0,255);\" />\n",
      "        </svg>1:30.96<br />\n",
      "    \n",
      "        <svg height=\"30\" width=\"400\">\n",
      "            <rect height=\"30\" width=\"356.51\" style=\"fill:rgb(0,0,255);\" />\n",
      "        </svg>1:21.07<br />\n",
      "    \n",
      "        <svg height=\"30\" width=\"400\">\n",
      "            <rect height=\"30\" width=\"386.76\" style=\"fill:rgb(0,0,255);\" />\n",
      "        </svg>1:27.95<br />\n",
      "    \n",
      "        <p>Average time: 1:26.58</p>\n",
      "    </body>\n",
      "</html>\n",
      "\n"
     ]
    }
   ],
   "source": [
    "page = html + svgs + footer\n",
    "print(page)"
   ]
  },
  {
   "cell_type": "code",
   "execution_count": 12,
   "metadata": {},
   "outputs": [],
   "source": [
    "with open(\"test.txt\", \"w\") as tf:\n",
    "    print(\"This is a test.\", file=tf)"
   ]
  },
  {
   "cell_type": "code",
   "execution_count": 13,
   "metadata": {},
   "outputs": [],
   "source": [
    "save_to = f\"charts/{fn.removesuffix('.txt')}.html\"\n",
    "\n",
    "with open(f\"{save_to}\", \"w\") as sf:\n",
    "    print(page, file=sf)"
   ]
  },
  {
   "cell_type": "code",
   "execution_count": 14,
   "metadata": {},
   "outputs": [],
   "source": [
    "import os\n",
    "import webbrowser"
   ]
  },
  {
   "cell_type": "code",
   "execution_count": 15,
   "metadata": {},
   "outputs": [
    {
     "data": {
      "text/plain": [
       "True"
      ]
     },
     "execution_count": 15,
     "metadata": {},
     "output_type": "execute_result"
    }
   ],
   "source": [
    "webbrowser.open(\"file://\" + os.path.realpath(save_to))"
   ]
  },
  {
   "cell_type": "code",
   "execution_count": 16,
   "metadata": {},
   "outputs": [
    {
     "data": {
      "text/plain": [
       "True"
      ]
     },
     "execution_count": 16,
     "metadata": {},
     "output_type": "execute_result"
    }
   ],
   "source": [
    "chart = swimclub.produce_bar_chart(fn)\n",
    "webbrowser.open(\"file://\" + os.path.realpath(chart))"
   ]
  },
  {
   "cell_type": "code",
   "execution_count": 17,
   "metadata": {},
   "outputs": [
    {
     "data": {
      "text/plain": [
       "True"
      ]
     },
     "execution_count": 17,
     "metadata": {},
     "output_type": "execute_result"
    }
   ],
   "source": [
    "fn = \"Lizzie-14-100m-Back.txt\"\n",
    "chart = swimclub.produce_bar_chart(fn)\n",
    "webbrowser.open(\"file://\" + os.path.realpath(chart))"
   ]
  }
 ],
 "metadata": {
  "kernelspec": {
   "display_name": "Python 3 (ipykernel)",
   "language": "python",
   "name": "python3"
  },
  "language_info": {
   "codemirror_mode": {
    "name": "ipython",
    "version": 3
   },
   "file_extension": ".py",
   "mimetype": "text/x-python",
   "name": "python",
   "nbconvert_exporter": "python",
   "pygments_lexer": "ipython3",
   "version": "3.9.5"
  }
 },
 "nbformat": 4,
 "nbformat_minor": 2
}
