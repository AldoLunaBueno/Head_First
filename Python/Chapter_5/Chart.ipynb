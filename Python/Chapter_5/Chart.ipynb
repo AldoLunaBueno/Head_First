{
 "cells": [
  {
   "cell_type": "code",
   "execution_count": 5,
   "metadata": {},
   "outputs": [],
   "source": [
    "import swimclub\n",
    "\n",
    "fn = \"Darius-13-100m-Fly.txt\"\n",
    "(swimmer, age, distance, stroke, *_) = swimclub.read_swim_data(fn)\n",
    "\n",
    "title = f\"{swimmer} (Under {age}) {distance} {stroke}\""
   ]
  },
  {
   "cell_type": "code",
   "execution_count": 6,
   "metadata": {},
   "outputs": [
    {
     "data": {
      "text/plain": [
       "'Darius (Under 13) 100m Fly'"
      ]
     },
     "execution_count": 6,
     "metadata": {},
     "output_type": "execute_result"
    }
   ],
   "source": [
    "title"
   ]
  },
  {
   "cell_type": "code",
   "execution_count": 10,
   "metadata": {},
   "outputs": [],
   "source": [
    "html = f\"<!DOCTYPE html><html><head><title>{title}\"\n",
    "html = html + f\"</title></head><body><h3>{title}</h3>\""
   ]
  },
  {
   "cell_type": "code",
   "execution_count": 11,
   "metadata": {},
   "outputs": [
    {
     "data": {
      "text/plain": [
       "'<!DOCTYPE html><html><head><title>Darius (Under 13) 100m Fly</title></head><body><h3>Darius (Under 13) 100m Fly</h3>'"
      ]
     },
     "execution_count": 11,
     "metadata": {},
     "output_type": "execute_result"
    }
   ],
   "source": [
    "html"
   ]
  },
  {
   "cell_type": "code",
   "execution_count": 14,
   "metadata": {},
   "outputs": [
    {
     "name": "stdout",
     "output_type": "stream",
     "text": [
      "<!DOCTYPE html>\n",
      "<html>\n",
      "    <head>\n",
      "        <title>Darius (Under 13) 100m Fly</title>\n",
      "    </head>\n",
      "<body>\n",
      "    <h3>Darius (Under 13) 100m Fly</h3>\n",
      "\n"
     ]
    }
   ],
   "source": [
    "html = f\"\"\"<!DOCTYPE html>\n",
    "<html>\n",
    "    <head>\n",
    "        <title>{title}</title>\n",
    "    </head>\n",
    "<body>\n",
    "    <h3>{title}</h3>\n",
    "\"\"\"\n",
    "\n",
    "print(html)"
   ]
  },
  {
   "cell_type": "code",
   "execution_count": 15,
   "metadata": {},
   "outputs": [
    {
     "data": {
      "text/plain": [
       "[['1:27.95', '1:21.07', '1:30.96', '1:23.22', '1:27.95', '1:28.30'], '1:26.58']"
      ]
     },
     "execution_count": 15,
     "metadata": {},
     "output_type": "execute_result"
    }
   ],
   "source": [
    "_"
   ]
  }
 ],
 "metadata": {
  "kernelspec": {
   "display_name": "Python 3",
   "language": "python",
   "name": "python3"
  },
  "language_info": {
   "codemirror_mode": {
    "name": "ipython",
    "version": 3
   },
   "file_extension": ".py",
   "mimetype": "text/x-python",
   "name": "python",
   "nbconvert_exporter": "python",
   "pygments_lexer": "ipython3",
   "version": "3.9.5"
  }
 },
 "nbformat": 4,
 "nbformat_minor": 2
}
